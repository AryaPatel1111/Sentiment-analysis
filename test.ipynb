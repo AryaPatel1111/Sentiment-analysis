{
 "metadata": {
  "language_info": {
   "codemirror_mode": {
    "name": "ipython",
    "version": 3
   },
   "file_extension": ".py",
   "mimetype": "text/x-python",
   "name": "python",
   "nbconvert_exporter": "python",
   "pygments_lexer": "ipython3",
   "version": "3.7.1"
  },
  "orig_nbformat": 2,
  "kernelspec": {
   "name": "python371jvsc74a57bd010809c0ae61fba76c90e67752b84df9b8c002d75b9b73576782f846bb84b71f2",
   "display_name": "Python 3.7.1 64-bit (conda)"
  }
 },
 "nbformat": 4,
 "nbformat_minor": 2,
 "cells": [
  {
   "cell_type": "code",
   "execution_count": 1,
   "metadata": {},
   "outputs": [
    {
     "output_type": "stream",
     "name": "stderr",
     "text": [
      "[nltk_data] Downloading package punkt to\n[nltk_data]     C:\\Users\\aryam\\AppData\\Roaming\\nltk_data...\n[nltk_data]   Package punkt is already up-to-date!\n"
     ]
    }
   ],
   "source": [
    "import nltk\n",
    "nltk.download('punkt')\n",
    "from nltk.tokenize import word_tokenize\n",
    "from nltk.corpus import stopwords\n",
    "from nltk.stem import PorterStemmer\n",
    "from sklearn.feature_extraction.text import CountVectorizer\n",
    "from sklearn.feature_extraction.text import TfidfTransformer\n",
    "import matplotlib.pyplot as plt\n",
    "from wordcloud import WordCloud\n",
    "from math import log, sqrt\n",
    "import pandas as pd\n",
    "import numpy as np\n",
    "import re\n",
    "%matplotlib inline"
   ]
  },
  {
   "cell_type": "code",
   "execution_count": 6,
   "metadata": {},
   "outputs": [
    {
     "output_type": "execute_result",
     "data": {
      "text/plain": [
       "    Unnamed: 0                                            message  label\n",
       "0          106  just had a real good moment. i missssssssss hi...      0\n",
       "1          217         is reading manga  http://plurk.com/p/mzp1e      0\n",
       "2          220  @comeagainjen http://twitpic.com/2y2lx - http:...      0\n",
       "3          288  @lapcat Need to send 'em to my accountant tomo...      0\n",
       "4          540      ADD ME ON MYSPACE!!!  myspace.com/LookThunder      0\n",
       "5          624              so sleepy. good times tonight though       0\n",
       "6          701  @SilkCharm re: #nbn as someone already said, d...      0\n",
       "7          808                 23 or 24ï¿½C possible today. Nice       0\n",
       "8         1193        nite twitterville  workout in the am  -ciao      0\n",
       "9         1324    @daNanner Night, darlin'!  Sweet dreams to you       0\n",
       "10        1332                           Good morning everybody!       0\n",
       "11        1368  Finally! I just created my WordPress Blog. The...      0\n",
       "12        1578  kisha they cnt get over u til they get out frm...      0\n",
       "13        1595  @nicolerichie Yes i remember that band, It was...      0\n",
       "14        1861             I really love reflections and shadows       0\n",
       "15        1889  @blueaero ooo it's fantasy?  i like fantasy no...      0\n",
       "16        1899  @rokchic28 no probs, I sell nothing other than...      0\n",
       "17        1919  @shipovalov &quot;NOKLA connecting people&quot...      0\n",
       "18        1992  Once again stayed up to late and have to start...      0\n",
       "19        2097  @Kal_Penn I just read about your new job, CONG...      0"
      ],
      "text/html": "<div>\n<style scoped>\n    .dataframe tbody tr th:only-of-type {\n        vertical-align: middle;\n    }\n\n    .dataframe tbody tr th {\n        vertical-align: top;\n    }\n\n    .dataframe thead th {\n        text-align: right;\n    }\n</style>\n<table border=\"1\" class=\"dataframe\">\n  <thead>\n    <tr style=\"text-align: right;\">\n      <th></th>\n      <th>Unnamed: 0</th>\n      <th>message</th>\n      <th>label</th>\n    </tr>\n  </thead>\n  <tbody>\n    <tr>\n      <th>0</th>\n      <td>106</td>\n      <td>just had a real good moment. i missssssssss hi...</td>\n      <td>0</td>\n    </tr>\n    <tr>\n      <th>1</th>\n      <td>217</td>\n      <td>is reading manga  http://plurk.com/p/mzp1e</td>\n      <td>0</td>\n    </tr>\n    <tr>\n      <th>2</th>\n      <td>220</td>\n      <td>@comeagainjen http://twitpic.com/2y2lx - http:...</td>\n      <td>0</td>\n    </tr>\n    <tr>\n      <th>3</th>\n      <td>288</td>\n      <td>@lapcat Need to send 'em to my accountant tomo...</td>\n      <td>0</td>\n    </tr>\n    <tr>\n      <th>4</th>\n      <td>540</td>\n      <td>ADD ME ON MYSPACE!!!  myspace.com/LookThunder</td>\n      <td>0</td>\n    </tr>\n    <tr>\n      <th>5</th>\n      <td>624</td>\n      <td>so sleepy. good times tonight though</td>\n      <td>0</td>\n    </tr>\n    <tr>\n      <th>6</th>\n      <td>701</td>\n      <td>@SilkCharm re: #nbn as someone already said, d...</td>\n      <td>0</td>\n    </tr>\n    <tr>\n      <th>7</th>\n      <td>808</td>\n      <td>23 or 24ï¿½C possible today. Nice</td>\n      <td>0</td>\n    </tr>\n    <tr>\n      <th>8</th>\n      <td>1193</td>\n      <td>nite twitterville  workout in the am  -ciao</td>\n      <td>0</td>\n    </tr>\n    <tr>\n      <th>9</th>\n      <td>1324</td>\n      <td>@daNanner Night, darlin'!  Sweet dreams to you</td>\n      <td>0</td>\n    </tr>\n    <tr>\n      <th>10</th>\n      <td>1332</td>\n      <td>Good morning everybody!</td>\n      <td>0</td>\n    </tr>\n    <tr>\n      <th>11</th>\n      <td>1368</td>\n      <td>Finally! I just created my WordPress Blog. The...</td>\n      <td>0</td>\n    </tr>\n    <tr>\n      <th>12</th>\n      <td>1578</td>\n      <td>kisha they cnt get over u til they get out frm...</td>\n      <td>0</td>\n    </tr>\n    <tr>\n      <th>13</th>\n      <td>1595</td>\n      <td>@nicolerichie Yes i remember that band, It was...</td>\n      <td>0</td>\n    </tr>\n    <tr>\n      <th>14</th>\n      <td>1861</td>\n      <td>I really love reflections and shadows</td>\n      <td>0</td>\n    </tr>\n    <tr>\n      <th>15</th>\n      <td>1889</td>\n      <td>@blueaero ooo it's fantasy?  i like fantasy no...</td>\n      <td>0</td>\n    </tr>\n    <tr>\n      <th>16</th>\n      <td>1899</td>\n      <td>@rokchic28 no probs, I sell nothing other than...</td>\n      <td>0</td>\n    </tr>\n    <tr>\n      <th>17</th>\n      <td>1919</td>\n      <td>@shipovalov &amp;quot;NOKLA connecting people&amp;quot...</td>\n      <td>0</td>\n    </tr>\n    <tr>\n      <th>18</th>\n      <td>1992</td>\n      <td>Once again stayed up to late and have to start...</td>\n      <td>0</td>\n    </tr>\n    <tr>\n      <th>19</th>\n      <td>2097</td>\n      <td>@Kal_Penn I just read about your new job, CONG...</td>\n      <td>0</td>\n    </tr>\n  </tbody>\n</table>\n</div>"
     },
     "metadata": {},
     "execution_count": 6
    }
   ],
   "source": [
    "tweets = pd.read_csv('sentiment_tweets3.csv')\n",
    "tweets.head(20)"
   ]
  },
  {
   "cell_type": "code",
   "execution_count": 7,
   "metadata": {},
   "outputs": [],
   "source": [
    "tweets.drop(['Unnamed: 0'], axis = 1, inplace = True)"
   ]
  },
  {
   "cell_type": "code",
   "execution_count": 8,
   "metadata": {},
   "outputs": [
    {
     "output_type": "execute_result",
     "data": {
      "text/plain": [
       "                                              message  label\n",
       "0   just had a real good moment. i missssssssss hi...      0\n",
       "1          is reading manga  http://plurk.com/p/mzp1e      0\n",
       "2   @comeagainjen http://twitpic.com/2y2lx - http:...      0\n",
       "3   @lapcat Need to send 'em to my accountant tomo...      0\n",
       "4       ADD ME ON MYSPACE!!!  myspace.com/LookThunder      0\n",
       "5               so sleepy. good times tonight though       0\n",
       "6   @SilkCharm re: #nbn as someone already said, d...      0\n",
       "7                  23 or 24ï¿½C possible today. Nice       0\n",
       "8         nite twitterville  workout in the am  -ciao      0\n",
       "9     @daNanner Night, darlin'!  Sweet dreams to you       0\n",
       "10                           Good morning everybody!       0\n",
       "11  Finally! I just created my WordPress Blog. The...      0\n",
       "12  kisha they cnt get over u til they get out frm...      0\n",
       "13  @nicolerichie Yes i remember that band, It was...      0\n",
       "14             I really love reflections and shadows       0\n",
       "15  @blueaero ooo it's fantasy?  i like fantasy no...      0\n",
       "16  @rokchic28 no probs, I sell nothing other than...      0\n",
       "17  @shipovalov &quot;NOKLA connecting people&quot...      0\n",
       "18  Once again stayed up to late and have to start...      0\n",
       "19  @Kal_Penn I just read about your new job, CONG...      0"
      ],
      "text/html": "<div>\n<style scoped>\n    .dataframe tbody tr th:only-of-type {\n        vertical-align: middle;\n    }\n\n    .dataframe tbody tr th {\n        vertical-align: top;\n    }\n\n    .dataframe thead th {\n        text-align: right;\n    }\n</style>\n<table border=\"1\" class=\"dataframe\">\n  <thead>\n    <tr style=\"text-align: right;\">\n      <th></th>\n      <th>message</th>\n      <th>label</th>\n    </tr>\n  </thead>\n  <tbody>\n    <tr>\n      <th>0</th>\n      <td>just had a real good moment. i missssssssss hi...</td>\n      <td>0</td>\n    </tr>\n    <tr>\n      <th>1</th>\n      <td>is reading manga  http://plurk.com/p/mzp1e</td>\n      <td>0</td>\n    </tr>\n    <tr>\n      <th>2</th>\n      <td>@comeagainjen http://twitpic.com/2y2lx - http:...</td>\n      <td>0</td>\n    </tr>\n    <tr>\n      <th>3</th>\n      <td>@lapcat Need to send 'em to my accountant tomo...</td>\n      <td>0</td>\n    </tr>\n    <tr>\n      <th>4</th>\n      <td>ADD ME ON MYSPACE!!!  myspace.com/LookThunder</td>\n      <td>0</td>\n    </tr>\n    <tr>\n      <th>5</th>\n      <td>so sleepy. good times tonight though</td>\n      <td>0</td>\n    </tr>\n    <tr>\n      <th>6</th>\n      <td>@SilkCharm re: #nbn as someone already said, d...</td>\n      <td>0</td>\n    </tr>\n    <tr>\n      <th>7</th>\n      <td>23 or 24ï¿½C possible today. Nice</td>\n      <td>0</td>\n    </tr>\n    <tr>\n      <th>8</th>\n      <td>nite twitterville  workout in the am  -ciao</td>\n      <td>0</td>\n    </tr>\n    <tr>\n      <th>9</th>\n      <td>@daNanner Night, darlin'!  Sweet dreams to you</td>\n      <td>0</td>\n    </tr>\n    <tr>\n      <th>10</th>\n      <td>Good morning everybody!</td>\n      <td>0</td>\n    </tr>\n    <tr>\n      <th>11</th>\n      <td>Finally! I just created my WordPress Blog. The...</td>\n      <td>0</td>\n    </tr>\n    <tr>\n      <th>12</th>\n      <td>kisha they cnt get over u til they get out frm...</td>\n      <td>0</td>\n    </tr>\n    <tr>\n      <th>13</th>\n      <td>@nicolerichie Yes i remember that band, It was...</td>\n      <td>0</td>\n    </tr>\n    <tr>\n      <th>14</th>\n      <td>I really love reflections and shadows</td>\n      <td>0</td>\n    </tr>\n    <tr>\n      <th>15</th>\n      <td>@blueaero ooo it's fantasy?  i like fantasy no...</td>\n      <td>0</td>\n    </tr>\n    <tr>\n      <th>16</th>\n      <td>@rokchic28 no probs, I sell nothing other than...</td>\n      <td>0</td>\n    </tr>\n    <tr>\n      <th>17</th>\n      <td>@shipovalov &amp;quot;NOKLA connecting people&amp;quot...</td>\n      <td>0</td>\n    </tr>\n    <tr>\n      <th>18</th>\n      <td>Once again stayed up to late and have to start...</td>\n      <td>0</td>\n    </tr>\n    <tr>\n      <th>19</th>\n      <td>@Kal_Penn I just read about your new job, CONG...</td>\n      <td>0</td>\n    </tr>\n  </tbody>\n</table>\n</div>"
     },
     "metadata": {},
     "execution_count": 8
    }
   ],
   "source": [
    "tweets.head(20)"
   ]
  },
  {
   "cell_type": "code",
   "execution_count": 11,
   "metadata": {},
   "outputs": [
    {
     "output_type": "stream",
     "name": "stdout",
     "text": [
      "0    just had a real good moment. i missssssssss hi...\n1           is reading manga  http://plurk.com/p/mzp1e\n2    @comeagainjen http://twitpic.com/2y2lx - http:...\n3    @lapcat Need to send 'em to my accountant tomo...\n4        ADD ME ON MYSPACE!!!  myspace.com/LookThunder\nName: message, dtype: object 0    0\n1    0\n2    0\n3    0\n4    0\nName: label, dtype: int64\n"
     ]
    }
   ],
   "source": [
    "X = tweets['message']\n",
    "y = tweets['label']\n",
    "print(X.head(),y.head())"
   ]
  },
  {
   "cell_type": "code",
   "execution_count": 15,
   "metadata": {},
   "outputs": [],
   "source": [
    " from sklearn.model_selection import train_test_split\n",
    " X_train, X_test, y_train, y_test = train_test_split(X, y, test_size=0.02)"
   ]
  },
  {
   "cell_type": "code",
   "execution_count": 21,
   "metadata": {},
   "outputs": [
    {
     "output_type": "execute_result",
     "data": {
      "text/plain": [
       "(10107, 22316)"
      ]
     },
     "metadata": {},
     "execution_count": 21
    }
   ],
   "source": [
    "from sklearn.feature_extraction.text import CountVectorizer\n",
    "count_vect = CountVectorizer()\n",
    "X_train_counts = count_vect.fit_transform(X_train)\n",
    "X_train_counts.shape"
   ]
  },
  {
   "cell_type": "code",
   "execution_count": 22,
   "metadata": {},
   "outputs": [
    {
     "output_type": "execute_result",
     "data": {
      "text/plain": [
       "(10107, 22316)"
      ]
     },
     "metadata": {},
     "execution_count": 22
    }
   ],
   "source": [
    "from sklearn.feature_extraction.text import TfidfTransformer\n",
    "tfidf_transformer = TfidfTransformer()\n",
    "X_train_tfidf = tfidf_transformer.fit_transform(X_train_counts)\n",
    "X_train_tfidf.shape"
   ]
  },
  {
   "cell_type": "code",
   "execution_count": 23,
   "metadata": {},
   "outputs": [],
   "source": [
    "from sklearn.naive_bayes import MultinomialNB\n",
    "clf = MultinomialNB().fit(X_train_tfidf, y_train)"
   ]
  },
  {
   "cell_type": "code",
   "execution_count": 24,
   "metadata": {},
   "outputs": [],
   "source": [
    "from sklearn.pipeline import Pipeline\n",
    "text_clf = Pipeline([('vect', CountVectorizer()),\n",
    "                     ('tfidf', TfidfTransformer()),\n",
    "                     ('clf', MultinomialNB())])\n",
    "\n",
    "text_clf = text_clf.fit(X_train, y_train)"
   ]
  },
  {
   "cell_type": "code",
   "execution_count": 27,
   "metadata": {},
   "outputs": [
    {
     "output_type": "execute_result",
     "data": {
      "text/plain": [
       "0.9033816425120773"
      ]
     },
     "metadata": {},
     "execution_count": 27
    }
   ],
   "source": [
    "import numpy as np\n",
    "predicted = text_clf.predict(X_test)\n",
    "np.mean(predicted == y_test)"
   ]
  },
  {
   "cell_type": "code",
   "execution_count": 38,
   "metadata": {},
   "outputs": [
    {
     "output_type": "execute_result",
     "data": {
      "text/plain": [
       "0.9951690821256038"
      ]
     },
     "metadata": {},
     "execution_count": 38
    }
   ],
   "source": [
    "from sklearn.linear_model import SGDClassifier\n",
    "text_clf_svm = Pipeline([('vect', CountVectorizer()),\n",
    "                         ('tfidf', TfidfTransformer()),\n",
    "                         ('clf-svm', SGDClassifier(loss='hinge', penalty='l2', alpha=1e-3, n_iter_no_change=5, random_state=42))])\n",
    "\n",
    "_ = text_clf_svm.fit(X_train, y_train)\n",
    "predicted_svm = text_clf_svm.predict(X_test)\n",
    "np.mean(predicted_svm == y_test)"
   ]
  },
  {
   "cell_type": "code",
   "execution_count": 39,
   "metadata": {},
   "outputs": [],
   "source": [
    "from sklearn.model_selection import GridSearchCV\n",
    "parameters = {'vect__ngram_range': [(1, 1), (1, 2)], 'tfidf__use_idf': (True, False), 'clf__alpha': (1e-2, 1e-3)}"
   ]
  },
  {
   "cell_type": "code",
   "execution_count": 40,
   "metadata": {},
   "outputs": [],
   "source": [
    "gs_clf = GridSearchCV(text_clf, parameters, n_jobs=-1)\n",
    "gs_clf = gs_clf.fit(X_train, y_train)"
   ]
  },
  {
   "cell_type": "code",
   "execution_count": 41,
   "metadata": {},
   "outputs": [
    {
     "output_type": "execute_result",
     "data": {
      "text/plain": [
       "{'clf__alpha': 0.01, 'tfidf__use_idf': False, 'vect__ngram_range': (1, 1)}"
      ]
     },
     "metadata": {},
     "execution_count": 41
    }
   ],
   "source": [
    "gs_clf.best_score_\n",
    "gs_clf.best_params_"
   ]
  },
  {
   "cell_type": "code",
   "execution_count": 44,
   "metadata": {},
   "outputs": [
    {
     "output_type": "execute_result",
     "data": {
      "text/plain": [
       "{'clf-svm__alpha': 0.001, 'tfidf__use_idf': False, 'vect__ngram_range': (1, 2)}"
      ]
     },
     "metadata": {},
     "execution_count": 44
    }
   ],
   "source": [
    "from sklearn.model_selection import GridSearchCV\n",
    "parameters_svm = {'vect__ngram_range': [(1, 1), (1, 2)], 'tfidf__use_idf': (True, False), 'clf-svm__alpha': (1e-2, 1e-3)}\n",
    "gs_clf_svm = GridSearchCV(text_clf_svm, parameters_svm, n_jobs=-1)\n",
    "gs_clf_svm = gs_clf_svm.fit(X_train, y_train)\n",
    "gs_clf_svm.best_score_\n",
    "gs_clf_svm.best_params_"
   ]
  },
  {
   "cell_type": "code",
   "execution_count": 45,
   "metadata": {},
   "outputs": [],
   "source": [
    "from sklearn.pipeline import Pipeline\n",
    "text_clf = Pipeline([('vect', CountVectorizer(stop_words='english')), ('tfidf', TfidfTransformer()), ('clf', MultinomialNB())])"
   ]
  },
  {
   "cell_type": "code",
   "execution_count": 46,
   "metadata": {},
   "outputs": [
    {
     "output_type": "stream",
     "name": "stdout",
     "text": [
      "showing info https://raw.githubusercontent.com/nltk/nltk_data/gh-pages/index.xml\n"
     ]
    },
    {
     "output_type": "execute_result",
     "data": {
      "text/plain": [
       "0.9806763285024155"
      ]
     },
     "metadata": {},
     "execution_count": 46
    }
   ],
   "source": [
    "import nltk\n",
    "nltk.download()\n",
    "from nltk.stem.snowball import SnowballStemmer\n",
    "stemmer = SnowballStemmer(\"english\", ignore_stopwords=True)\n",
    "class StemmedCountVectorizer(CountVectorizer):\n",
    "    def build_analyzer(self):\n",
    "        analyzer = super(StemmedCountVectorizer, self).build_analyzer()\n",
    "        return lambda doc: ([stemmer.stem(w) for w in analyzer(doc)])\n",
    "\n",
    "stemmed_count_vect = StemmedCountVectorizer(stop_words='english')\n",
    "\n",
    "text_mnb_stemmed = Pipeline([('vect', stemmed_count_vect), ('tfidf', TfidfTransformer()), ('mnb', MultinomialNB(fit_prior=False))])\n",
    "\n",
    "text_mnb_stemmed = text_mnb_stemmed.fit(X_train, y_train)\n",
    "\n",
    "predicted_mnb_stemmed = text_mnb_stemmed.predict(X_test)\n",
    "\n",
    "np.mean(predicted_mnb_stemmed == y_test)"
   ]
  },
  {
   "cell_type": "code",
   "execution_count": null,
   "metadata": {},
   "outputs": [],
   "source": []
  }
 ]
}